{
 "cells": [
  {
   "cell_type": "markdown",
   "metadata": {},
   "source": [
    "# Hackathon ESTYA"
   ]
  },
  {
   "cell_type": "markdown",
   "metadata": {},
   "source": [
    "## Solution de GOUGOU NELSON aux 5 questions du hackathon"
   ]
  },
  {
   "cell_type": "markdown",
   "metadata": {},
   "source": [
    "## Problème A"
   ]
  },
  {
   "cell_type": "code",
   "execution_count": 85,
   "metadata": {},
   "outputs": [
    {
     "name": "stdout",
     "output_type": "stream",
     "text": [
      "Saisir une moyenne: 21\n",
      "moyenne invalide\n"
     ]
    }
   ],
   "source": [
    "try:   # on s'assure que la moyenne est un nombre\n",
    "    moyenne = float(input(\"Saisir une moyenne: \"))\n",
    "except:\n",
    "    print(\"moyenne invalide\")\n",
    "else:\n",
    "    if (moyenne < 0) or (moyenne > 20):\n",
    "        print(\"moyenne invalide\")\n",
    "    elif moyenne < 10:\n",
    "        print(\"Refusé\")\n",
    "    elif (10 <= moyenne) and (moyenne <= 11.99):\n",
    "        print(\"Passable\")\n",
    "    elif (12 <= moyenne) and (moyenne <= 13.99):\n",
    "        print(\"Assez Bien\")\n",
    "    elif (14 <= moyenne) and (moyenne <= 15.99):\n",
    "        print(\"Bien\")\n",
    "    elif (16 <= moyenne) and (moyenne <= 17.99):\n",
    "        print(\"Très Bien\")\n",
    "    elif moyenne >= 18:\n",
    "        print(\"Excellent\")"
   ]
  },
  {
   "cell_type": "markdown",
   "metadata": {},
   "source": [
    "## Problème B"
   ]
  },
  {
   "cell_type": "code",
   "execution_count": 86,
   "metadata": {},
   "outputs": [
    {
     "name": "stdout",
     "output_type": "stream",
     "text": [
      "Donnez une valeur: 10\n",
      "Donnez une valeur: 30\n",
      "Donnez une valeur: 5\n",
      "Donnez une valeur: 40\n",
      "Donnez une valeur: done\n",
      "La plus grande valeur est : 40\n",
      "La plus petite valeur est : 5\n",
      "La moyenne des valeurs est : 21.25\n"
     ]
    }
   ],
   "source": [
    "val = 0     # valeur à entrer\n",
    "total = 0    # total des valeur\n",
    "minval = 0    # plus petite valeur\n",
    "maxval = 0   # plus grande valeur\n",
    "nb = 0     # nombre de valeur\n",
    "nonfinir = True   # pour savoir si la saisir est finie\n",
    "while nonfinir:\n",
    "    val = input(\"Donnez une valeur: \")\n",
    "    if val == \"done\":\n",
    "        nonfinir = False\n",
    "    else:\n",
    "        nb += 1\n",
    "        val = int(val)\n",
    "        total += val\n",
    "        if nb == 1:\n",
    "            minval = val\n",
    "            \n",
    "        if val <= minval:\n",
    "            minval = val\n",
    "            \n",
    "        if val >= maxval:\n",
    "            maxval = val\n",
    "print(\"La plus grande valeur est :\", maxval)\n",
    "print(\"La plus petite valeur est :\", minval)\n",
    "print(\"La moyenne des valeurs est :\", total/nb)"
   ]
  },
  {
   "cell_type": "markdown",
   "metadata": {},
   "source": [
    "## Problème C"
   ]
  },
  {
   "cell_type": "markdown",
   "metadata": {},
   "source": [
    "### 1"
   ]
  },
  {
   "cell_type": "code",
   "execution_count": 90,
   "metadata": {},
   "outputs": [
    {
     "name": "stdout",
     "output_type": "stream",
     "text": [
      "Veuille saisir un mot de passe2salutation\n",
      " la taille du mot de passe est au minimum égale à 8 caractères\n",
      "        le mot de passe commence obligatoirement par un caractère alphabétique\n"
     ]
    },
    {
     "data": {
      "text/plain": [
       "-1"
      ]
     },
     "execution_count": 90,
     "metadata": {},
     "output_type": "execute_result"
    }
   ],
   "source": [
    "def saisir():\n",
    "    \"\"\"Permet de saisir un mot de passe\"\"\"\n",
    "    mdp = input(\"Veuille saisir un mot de passe\")\n",
    "    if (len(mdp) >= 8) and (mdp[0].isalpha()):\n",
    "        return mdp\n",
    "    else:\n",
    "        print(\"\"\" la taille du mot de passe est au minimum égale à 8 caractères\n",
    "        le mot de passe commence obligatoirement par un caractère alphabétique\"\"\")\n",
    "        return -1\n",
    "    \n",
    "# saisir()"
   ]
  },
  {
   "cell_type": "markdown",
   "metadata": {},
   "source": [
    "### 2"
   ]
  },
  {
   "cell_type": "code",
   "execution_count": 95,
   "metadata": {},
   "outputs": [
    {
     "data": {
      "text/plain": [
       "17"
      ]
     },
     "execution_count": 95,
     "metadata": {},
     "output_type": "execute_result"
    }
   ],
   "source": [
    "def mdplen(mdp):\n",
    "    \"\"\"Retourne la longueur d'un mot de passe\"\"\"\n",
    "    return len(mdp)\n",
    "\n",
    "# mdplen(\"H@chathonn_123_fr\")"
   ]
  },
  {
   "cell_type": "markdown",
   "metadata": {},
   "source": [
    "### 3"
   ]
  },
  {
   "cell_type": "code",
   "execution_count": 96,
   "metadata": {},
   "outputs": [
    {
     "data": {
      "text/plain": [
       "11"
      ]
     },
     "execution_count": 96,
     "metadata": {},
     "output_type": "execute_result"
    }
   ],
   "source": [
    "def mdpalphanb(mdp):\n",
    "    \"\"\"Retourne le nombre de caractère alphabetique d'un mot de passe\"\"\"\n",
    "    nb = 0\n",
    "    for car in mdp:\n",
    "        if car.isalpha():\n",
    "            nb += 1\n",
    "    return nb\n",
    "\n",
    "# mdpalphanb(\"H@chathonn_123_fr\")"
   ]
  },
  {
   "cell_type": "markdown",
   "metadata": {},
   "source": [
    "### 4"
   ]
  },
  {
   "cell_type": "code",
   "execution_count": 97,
   "metadata": {},
   "outputs": [
    {
     "data": {
      "text/plain": [
       "3"
      ]
     },
     "execution_count": 97,
     "metadata": {},
     "output_type": "execute_result"
    }
   ],
   "source": [
    "def mdpnumnb(mdp):\n",
    "    \"\"\"Retourne le nombre de caractère numérique d'un mot de passe\"\"\"\n",
    "    nb = 0\n",
    "    for car in mdp:\n",
    "        if car.isnumeric():\n",
    "            nb += 1\n",
    "    return nb\n",
    "\n",
    "# mdpnumnb(\"H@chathonn_123_fr\")"
   ]
  },
  {
   "cell_type": "markdown",
   "metadata": {},
   "source": [
    "### 5"
   ]
  },
  {
   "cell_type": "code",
   "execution_count": 105,
   "metadata": {},
   "outputs": [
    {
     "data": {
      "text/plain": [
       "(True, '123')"
      ]
     },
     "execution_count": 105,
     "metadata": {},
     "output_type": "execute_result"
    }
   ],
   "source": [
    "def mdpseq(mdp):\n",
    "    \"\"\"Retourne si le mot de passe contient une sequence ainsi que la sequence\"\"\"\n",
    "    n = len(mdp)\n",
    "    for i in range(n-1):\n",
    "        a, b = mdp[i], mdp[i+1]\n",
    "\n",
    "        if (a.isnumeric() and b.isnumeric()) and ( int(a) == (int(b)-1)):\n",
    "            seq = a\n",
    "\n",
    "            while (i < n-1) and (mdp[i].isnumeric()) and (mdp[i+1].isnumeric()) and (int(mdp[i] )== int(mdp[i+1])-1):\n",
    "                seq += mdp[i+1]\n",
    "                i += 1\n",
    "            return True, seq\n",
    "        \n",
    "    return False\n",
    "\n",
    "# mdpseq(\"H@chathonn_123_fr\")"
   ]
  },
  {
   "cell_type": "markdown",
   "metadata": {},
   "source": [
    "### 6"
   ]
  },
  {
   "cell_type": "code",
   "execution_count": 106,
   "metadata": {},
   "outputs": [
    {
     "data": {
      "text/plain": [
       "(True, 'n')"
      ]
     },
     "execution_count": 106,
     "metadata": {},
     "output_type": "execute_result"
    }
   ],
   "source": [
    "def mdprep(mdp):\n",
    "    \"\"\"Retourne si le mot de passe contient des caractères consécutifs dupliqués ainsi que le caractère dupliqué\"\"\"\n",
    "    n = len(mdp)\n",
    "    for i in range(n-1):\n",
    "        a, b = mdp[i], mdp[i+1]\n",
    "\n",
    "        if a == b:\n",
    "            return True, a\n",
    "        \n",
    "    return False\n",
    "\n",
    "# mdprep(\"H@chathonn_123_fr\")"
   ]
  },
  {
   "cell_type": "markdown",
   "metadata": {},
   "source": [
    "## Problème D"
   ]
  },
  {
   "cell_type": "markdown",
   "metadata": {},
   "source": [
    "### 1"
   ]
  },
  {
   "cell_type": "code",
   "execution_count": 111,
   "metadata": {},
   "outputs": [
    {
     "data": {
      "text/plain": [
       "{'python': 3,\n",
       " 'programation': 1,\n",
       " 'et': 1,\n",
       " 'hackathon': 1,\n",
       " 'de': 1,\n",
       " 'boucles': 1,\n",
       " 'programmation': 2,\n",
       " 'tests': 1,\n",
       " 'la': 2}"
      ]
     },
     "execution_count": 111,
     "metadata": {},
     "output_type": "execute_result"
    }
   ],
   "source": [
    "def TermFrequency(filepath):\n",
    "    \"\"\"Etant donnée un chemin vers un fichier texte, elle retournera son index\"\"\"\n",
    "    with open(filepath, \"r\") as file:\n",
    "        text = file.read().lower().replace('\\n', ' ').split(' ')\n",
    "        n = len(text)\n",
    "        for i in range(n):\n",
    "            if text[i].endswith('\\n'):\n",
    "                text[i] = text[i][:-1]\n",
    "                \n",
    "        words = set(text)\n",
    "        index = dict()\n",
    "        for word in words:\n",
    "            index[word] = text.count(word)\n",
    "        \n",
    "        return index\n",
    "\n",
    "# TermFrequency(\"d1.txt\")"
   ]
  },
  {
   "cell_type": "markdown",
   "metadata": {},
   "source": [
    "### 2"
   ]
  },
  {
   "cell_type": "code",
   "execution_count": 119,
   "metadata": {},
   "outputs": [],
   "source": [
    "def TermFrequency1(filepath):\n",
    "    \"\"\"Etant donnée un chemin vers un fichier texte, elle retournera son index en ignorant les mot_vides\"\"\"\n",
    "    \n",
    "    mots_vides = ['le', 'la','les','de','dans', 'à', 'après','assez','aucun','celui', 'ces','cependant','devant']\n",
    "\n",
    "    with open(filepath, \"r\") as file:\n",
    "        text = file.read().lower()\n",
    "        for interdit in mots_vides:\n",
    "            text = text.replace(interdit, '')\n",
    "            \n",
    "        text = text.replace('\\n', ' ').split(' ')\n",
    "        n = len(text)\n",
    "        for i in range(n):\n",
    "            if text[i].endswith('\\n'):\n",
    "                text[i] = text[i][:-1]\n",
    "                \n",
    "        words = set(text)\n",
    "        index = dict()\n",
    "        for word in words:\n",
    "            index[word] = text.count(word)\n",
    "        if '' in index:\n",
    "            del index['']\n",
    "        return index\n",
    "\n",
    "# TermFrequency1(\"d1.txt\")"
   ]
  },
  {
   "cell_type": "markdown",
   "metadata": {},
   "source": [
    "### 3"
   ]
  },
  {
   "cell_type": "code",
   "execution_count": 123,
   "metadata": {},
   "outputs": [
    {
     "name": "stdout",
     "output_type": "stream",
     "text": [
      "process end\n",
      "d1.txt\tpython\t3\n",
      "d1.txt\tboucs\t1\n",
      "d1.txt\tprogramation\t1\n",
      "d1.txt\tet\t1\n",
      "d1.txt\thackathon\t1\n",
      "d1.txt\tprogrammation\t2\n",
      "d1.txt\ttests\t1\n",
      "d2.txt\tmerci\t1\n",
      "d2.txt\tinteressante\t1\n",
      "d2.txt\tcompetition\t2\n",
      "d2.txt\tet\t2\n",
      "d2.txt\tcharmante\t1\n",
      "d2.txt\tune\t1\n",
      "d2.txt\tfun\t1\n",
      "\n"
     ]
    }
   ],
   "source": [
    "import os\n",
    "def TermFrequency2(directory):\n",
    "    \"\"\"Etant donnée un repertoire elle retourne un fichier index.txt contenant les index de tous les fichiers texte de ce repertoire\"\"\"\n",
    "    with open(\"index.txt\", \"w\") as file:\n",
    "        filenames = os.listdir(directory)\n",
    "        for filename in filenames:\n",
    "            if filename.endswith('.txt'):\n",
    "                index = TermFrequency1(filename)\n",
    "                for key in index:\n",
    "                    file.write(\"{}\\t{}\\t{}\\n\".format(filename, key, index[key]))\n",
    "    print(\"process end\")\n",
    "\n",
    "# TermFrequency2(\".\")\n",
    "# with open(\"index.txt\", \"r\") as file:\n",
    "#     print(file.read())"
   ]
  },
  {
   "cell_type": "markdown",
   "metadata": {},
   "source": [
    "## Problème E"
   ]
  },
  {
   "cell_type": "markdown",
   "metadata": {},
   "source": [
    "### 1"
   ]
  },
  {
   "cell_type": "code",
   "execution_count": 122,
   "metadata": {},
   "outputs": [
    {
     "data": {
      "text/plain": [
       "'LYXTYEB OSDOMR'"
      ]
     },
     "execution_count": 122,
     "metadata": {},
     "output_type": "execute_result"
    }
   ],
   "source": [
    "def crypter(text):\n",
    "    \"\"\"Retourne le texte crypté en utilisant une méthode de cryptage qui consiste en un décalage de 10 caractères\"\"\"\n",
    "    ntext = ''\n",
    "    for car in text:\n",
    "        if car.isalpha():\n",
    "            carord = ord(car)+10\n",
    "            if carord > ord(\"Z\"):\n",
    "                carord = ord(\"A\")+carord-ord(\"Z\")-1\n",
    "            ntext += chr(carord)\n",
    "        else:\n",
    "            ntext += car\n",
    "    return ntext\n",
    "\n",
    "# crypter(\"BONJOUR EITECH\")"
   ]
  },
  {
   "cell_type": "markdown",
   "metadata": {},
   "source": [
    "### 2"
   ]
  },
  {
   "cell_type": "code",
   "execution_count": 124,
   "metadata": {},
   "outputs": [
    {
     "data": {
      "text/plain": [
       "'EYQLEPP CBVLEFB'"
      ]
     },
     "execution_count": 124,
     "metadata": {},
     "output_type": "execute_result"
    }
   ],
   "source": [
    "def crypter_cle(text, cle):\n",
    "    \"\"\"Retourne le texte crypté en utilisant une méthode de cryptage qui utilise une clé pour le cryptage\"\"\"\n",
    "    alphabet = [chr(n) for n in range(65, 91)]\n",
    "    pos_cle = []\n",
    "    for el in cle:\n",
    "        pos_cle.append(alphabet.index(el))\n",
    "    n = len(pos_cle)\n",
    "    m = len(text)\n",
    "    pos_cle = (pos_cle * m)[:m]\n",
    "    ntext = ''\n",
    "    for i in range(m):\n",
    "        car = text[i]\n",
    "        if car.isalpha():\n",
    "            carpos = alphabet.index(car)\n",
    "            npos = carpos + pos_cle[i]\n",
    "            npos = npos % 26\n",
    "            ntext += alphabet[npos]\n",
    "        else:\n",
    "            ntext += car\n",
    "    return ntext\n",
    "    \n",
    "# a = \"ELITECH CONTEST\"\n",
    "# b = \"ANIS\"\n",
    "# crypter_cle(a, b)"
   ]
  },
  {
   "cell_type": "markdown",
   "metadata": {},
   "source": [
    "# FIN\n",
    "Ces questions étaient vraiment passionantes, j'ai fais de mon mieux"
   ]
  }
 ],
 "metadata": {
  "kernelspec": {
   "display_name": "Python 3",
   "language": "python",
   "name": "python3"
  },
  "language_info": {
   "codemirror_mode": {
    "name": "ipython",
    "version": 3
   },
   "file_extension": ".py",
   "mimetype": "text/x-python",
   "name": "python",
   "nbconvert_exporter": "python",
   "pygments_lexer": "ipython3",
   "version": "3.8.5"
  }
 },
 "nbformat": 4,
 "nbformat_minor": 4
}
